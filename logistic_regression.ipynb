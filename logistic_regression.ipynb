{
 "cells": [
  {
   "cell_type": "code",
   "execution_count": 1,
   "id": "49480bff",
   "metadata": {},
   "outputs": [],
   "source": [
    "import numpy as np"
   ]
  },
  {
   "cell_type": "code",
   "execution_count": 2,
   "id": "08b140dd",
   "metadata": {},
   "outputs": [],
   "source": [
    "def sigmoid(z):\n",
    "    return 1 / (1 + np.exp(-z))"
   ]
  },
  {
   "cell_type": "code",
   "execution_count": null,
   "id": "68674276",
   "metadata": {},
   "outputs": [],
   "source": [
    "class LogisticRegression:\n",
    "    def __init__(self, lr=0.001, n_iters=1000, lambda_=1):\n",
    "        self.lr = lr\n",
    "        self.n_iters = n_iters\n",
    "        self.weights = None\n",
    "        self.bias = None\n",
    "        self.lambda_ = lambda_\n",
    "    \n",
    "    def fit(self, X, y):\n",
    "        n_samples, n_features = X.shape\n",
    "        self.weights = np.zeros(n_features)\n",
    "        self.bias = 0\n",
    "        \n",
    "        tol = 1e-5\n",
    "        prev_loss = 0\n",
    "        for i in range(self.n_iters):\n",
    "            y_pred = sigmoid(np.dot(X, self.weights) + self.bias)\n",
    "            dw = (1/n_samples) * (np.dot(X.T, (y_pred - y))) + ((self.lambda_ / n_samples)*(self.weights))\n",
    "            db = (1/n_samples) * (np.sum(y_pred - y))\n",
    "            self.weights = self.weights - (self.lr * dw)\n",
    "            self.bias = self.bias - (self.lr * db)\n",
    "            \n",
    "            current_loss = np.mean(np.square(y_pred - y))\n",
    "            \n",
    "            if abs(current_loss - prev_loss) < tol:\n",
    "                break\n",
    "                \n",
    "            prev_loss = current_loss\n",
    "        \n",
    "    def predict(self, X):\n",
    "        return sigmoid(np.dot(X, self.weights) + self.bias)"
   ]
  }
 ],
 "metadata": {
  "kernelspec": {
   "display_name": "Python 3 (ipykernel)",
   "language": "python",
   "name": "python3"
  },
  "language_info": {
   "codemirror_mode": {
    "name": "ipython",
    "version": 3
   },
   "file_extension": ".py",
   "mimetype": "text/x-python",
   "name": "python",
   "nbconvert_exporter": "python",
   "pygments_lexer": "ipython3",
   "version": "3.10.6"
  }
 },
 "nbformat": 4,
 "nbformat_minor": 5
}
